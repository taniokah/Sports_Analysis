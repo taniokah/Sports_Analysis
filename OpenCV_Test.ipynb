{
  "nbformat": 4,
  "nbformat_minor": 0,
  "metadata": {
    "colab": {
      "name": "OpenCV Test.ipynb",
      "version": "0.3.2",
      "provenance": [],
      "collapsed_sections": [],
      "toc_visible": true,
      "include_colab_link": true
    },
    "kernelspec": {
      "name": "python3",
      "display_name": "Python 3"
    }
  },
  "cells": [
    {
      "cell_type": "markdown",
      "metadata": {
        "id": "view-in-github",
        "colab_type": "text"
      },
      "source": [
        "<a href=\"https://colab.research.google.com/github/taniokah/Sports_Analysis/blob/master/OpenCV_Test.ipynb\" target=\"_parent\"><img src=\"https://colab.research.google.com/assets/colab-badge.svg\" alt=\"Open In Colab\"/></a>"
      ]
    },
    {
      "metadata": {
        "id": "xTW3Xq-9ThU7",
        "colab_type": "text"
      },
      "cell_type": "markdown",
      "source": [
        "# OpenCVテスト"
      ]
    },
    {
      "metadata": {
        "id": "laGiN48DTiw8",
        "colab_type": "code",
        "colab": {
          "base_uri": "https://localhost:8080/",
          "height": 34
        },
        "outputId": "2a3b98eb-3113-44d4-f0b2-506648955c67"
      },
      "cell_type": "code",
      "source": [
        "%matplotlib inline\n",
        "import cv2 #　opencvのインポート\n",
        "import matplotlib.pyplot as plt # matplotlib(描画用)\n",
        "\n",
        "print(cv2.__version__)"
      ],
      "execution_count": 1,
      "outputs": [
        {
          "output_type": "stream",
          "text": [
            "3.4.3\n"
          ],
          "name": "stdout"
        }
      ]
    },
    {
      "metadata": {
        "id": "NN-zSWJkUdeL",
        "colab_type": "code",
        "colab": {
          "base_uri": "https://localhost:8080/",
          "height": 241
        },
        "outputId": "e2579922-c78e-4a02-8914-afa778455f01"
      },
      "cell_type": "code",
      "source": [
        "!pip install pytube\n",
        "!pip install ffmpeg"
      ],
      "execution_count": 2,
      "outputs": [
        {
          "output_type": "stream",
          "text": [
            "Collecting pytube\n",
            "  Downloading https://files.pythonhosted.org/packages/e3/59/75fc847184855f701afa64d5604873032d7908ca8660a10d2e79cede4ddf/pytube-9.4.0-py3-none-any.whl\n",
            "Installing collected packages: pytube\n",
            "Successfully installed pytube-9.4.0\n",
            "Collecting ffmpeg\n",
            "  Downloading https://files.pythonhosted.org/packages/f0/cc/3b7408b8ecf7c1d20ad480c3eaed7619857bf1054b690226e906fdf14258/ffmpeg-1.4.tar.gz\n",
            "Building wheels for collected packages: ffmpeg\n",
            "  Building wheel for ffmpeg (setup.py) ... \u001b[?25ldone\n",
            "\u001b[?25h  Stored in directory: /root/.cache/pip/wheels/b6/68/c3/a05a35f647ba871e5572b9bbfc0b95fd1c6637a2219f959e7a\n",
            "Successfully built ffmpeg\n",
            "Installing collected packages: ffmpeg\n",
            "Successfully installed ffmpeg-1.4\n"
          ],
          "name": "stdout"
        }
      ]
    },
    {
      "metadata": {
        "id": "Ajq4Qx1iT2cB",
        "colab_type": "code",
        "colab": {
          "base_uri": "https://localhost:8080/",
          "height": 34
        },
        "outputId": "f82d04e6-f686-4911-9443-bb0a57141dcd"
      },
      "cell_type": "code",
      "source": [
        "from pytube import YouTube\n",
        "\n",
        "#yt = YouTube(\"https://www.youtube.com/watch?v=ZvFNaUWLj9Y\")\n",
        "yt = YouTube(\"https://youtu.be/l00CwQ6HI_o\")\n",
        "yt.streams.first().download()"
      ],
      "execution_count": 3,
      "outputs": [
        {
          "output_type": "execute_result",
          "data": {
            "text/plain": [
              "'/content/20190224 鹿屋体育大学 vs 鹿児島高専 1st.mp4'"
            ]
          },
          "metadata": {
            "tags": []
          },
          "execution_count": 3
        }
      ]
    },
    {
      "metadata": {
        "id": "TIzz4gMTT8uC",
        "colab_type": "code",
        "colab": {}
      },
      "cell_type": "code",
      "source": [
        "!rm -rf screen_caps\n",
        "!mkdir screen_caps"
      ],
      "execution_count": 0,
      "outputs": []
    },
    {
      "metadata": {
        "id": "txOwRbovWUAO",
        "colab_type": "code",
        "colab": {
          "base_uri": "https://localhost:8080/",
          "height": 51
        },
        "outputId": "a53cda9b-f2af-4cb7-96f6-58ae74408865"
      },
      "cell_type": "code",
      "source": [
        "#動画ファイルを読み込む\n",
        "#file_name = u\"20190217 徳島大学医学部 vs 吉野クラブ 2nd No2.mp4\"\n",
        "file_name = u\"20190224 鹿屋体育大学 vs 鹿児島高専 1st.mp4\"\n",
        "video = cv2.VideoCapture(file_name)\n",
        "\n",
        "#フレームレート数の取得\n",
        "frame_count = int(video.get(cv2.CAP_PROP_FRAME_COUNT))\n",
        "print('frame_count = ' + str(frame_count))\n",
        "\n",
        "#フレームレート(1フレームの時間単位はミリ秒)の取得\n",
        "frame_rate = int(video.get(cv2.CAP_PROP_FPS))\n",
        "print('frame_rate = ' + str(frame_rate))\n",
        "\n",
        "# 画像を保存する\n",
        "dir_name = \"screen_caps\"\n",
        "for i in range(frame_count):\n",
        "  _, frame = video.read()\n",
        "  if i % 330 == 0: # 10秒で1枚\n",
        "    file_name = dir_name+ \"/\" + str(i) + \".png\"\n",
        "    cv2.imwrite(file_name, frame)\n"
      ],
      "execution_count": 5,
      "outputs": [
        {
          "output_type": "stream",
          "text": [
            "frame_count = 89369\n",
            "frame_rate = 29\n"
          ],
          "name": "stdout"
        }
      ]
    },
    {
      "metadata": {
        "id": "cvhKrE72Xv7M",
        "colab_type": "code",
        "colab": {
          "base_uri": "https://localhost:8080/",
          "height": 34
        },
        "outputId": "be5b232d-f8ba-4a1d-d3fd-8eab9719dda3"
      },
      "cell_type": "code",
      "source": [
        "!pip install natsort"
      ],
      "execution_count": 6,
      "outputs": [
        {
          "output_type": "stream",
          "text": [
            "Requirement already satisfied: natsort in /usr/local/lib/python3.6/dist-packages (5.5.0)\n"
          ],
          "name": "stdout"
        }
      ]
    },
    {
      "metadata": {
        "id": "S7zLG_bYbfcO",
        "colab_type": "code",
        "colab": {}
      },
      "cell_type": "code",
      "source": [
        "import os\n",
        "import glob\n",
        "from natsort import natsorted\n",
        "\n",
        "%matplotlib inline\n",
        "import matplotlib.pyplot as plt # matplotlib(描画用)\n",
        "\n",
        "dir_name = \"screen_caps\"\n",
        "files = glob.glob(dir_name + \"/*\")\n",
        "files = natsorted(files)\n",
        "\n",
        "# 先頭から100枚を表示\n",
        "#for i in range(frame_count):\n",
        "height = 2\n",
        "for i in range(height):\n",
        "  #file_name = dir_name+ \"/\" + str(i) + \".png\"\n",
        "  file_name = files[i + 100]\n",
        "  img = cv2.imread(file_name)\n",
        "  img = cv2.cvtColor(img, cv2.COLOR_BGR2RGB)\n",
        "  plt.figure(figsize=(10, 10), dpi=100)\n",
        "  #plt.subplot(height, 1, i + 1)\n",
        "  plt.axis('off')\n",
        "  plt.imshow(img) #表示\n"
      ],
      "execution_count": 0,
      "outputs": []
    },
    {
      "metadata": {
        "id": "X-cuaUoTLmAs",
        "colab_type": "code",
        "colab": {}
      },
      "cell_type": "code",
      "source": [
        "!rm -rf masked_caps\n",
        "!mkdir masked_caps"
      ],
      "execution_count": 0,
      "outputs": []
    },
    {
      "metadata": {
        "colab_type": "code",
        "id": "yjW9-9Hr2ahm",
        "colab": {}
      },
      "cell_type": "code",
      "source": [
        "import cv2\n",
        "\n",
        "import os\n",
        "import glob\n",
        "from natsort import natsorted\n",
        "\n",
        "def mask(file_name):\n",
        "\n",
        "  img_BGR = cv2.imread(file_name)\n",
        "\n",
        "  # L*a*b*\n",
        "  img_Lab = cv2.cvtColor(img_BGR, cv2.COLOR_BGR2Lab)\n",
        "  img_Lab_L, img_Lab_a, img_Lab_b = cv2.split(img_Lab)\n",
        "  # cv2.imwrite('chirsuta.a.jpg', img_Lab_L)\n",
        "\n",
        "  # detect green area with a* value\n",
        "  _thres, img_green = cv2.threshold(img_Lab_a, 120, 255, cv2.THRESH_BINARY_INV)\n",
        "\n",
        "  # get masked BGR images\n",
        "  img_green_masked = cv2.bitwise_and(img_BGR, img_BGR, mask=img_green)\n",
        "  # cv2.imwrite('chirsuta.mask.jpg', img_green)\n",
        "\n",
        "  dir_name = \"masked_caps\"\n",
        "  file = os.path.basename(file_name)\n",
        "  name, _ = os.path.splitext(file)\n",
        "  cv2.imwrite(dir_name + '/' + name + '.png', img_green_masked)\n",
        "\n",
        "dir_name = \"screen_caps\"\n",
        "files = glob.glob(dir_name + \"/*\")\n",
        "files = natsorted(files)\n",
        "\n",
        "#for i in range(frame_count):\n",
        "for i in files:\n",
        "  #file_name = dir_name+ \"/\" + str(i) + \".png\"\n",
        "  #print(i)  \n",
        "  mask(i)\n"
      ],
      "execution_count": 0,
      "outputs": []
    },
    {
      "metadata": {
        "id": "v6G8_5DkRJGW",
        "colab_type": "code",
        "colab": {}
      },
      "cell_type": "code",
      "source": [
        "!zip -r screen_caps.zip screen_caps\n"
      ],
      "execution_count": 0,
      "outputs": []
    },
    {
      "metadata": {
        "id": "lf6Q3_oXWplU",
        "colab_type": "code",
        "colab": {}
      },
      "cell_type": "code",
      "source": [
        "!zip -r masked_caps masked_caps"
      ],
      "execution_count": 0,
      "outputs": []
    },
    {
      "metadata": {
        "id": "wU78neFkXc2O",
        "colab_type": "code",
        "colab": {}
      },
      "cell_type": "code",
      "source": [
        ""
      ],
      "execution_count": 0,
      "outputs": []
    }
  ]
}