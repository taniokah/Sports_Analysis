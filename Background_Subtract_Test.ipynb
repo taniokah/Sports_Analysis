{
  "nbformat": 4,
  "nbformat_minor": 0,
  "metadata": {
    "colab": {
      "name": "Background Subtract Test",
      "provenance": [],
      "collapsed_sections": [],
      "toc_visible": true,
      "machine_shape": "hm",
      "authorship_tag": "ABX9TyM4g4544MHPft2ErSMzUqDN",
      "include_colab_link": true
    },
    "kernelspec": {
      "name": "python3",
      "display_name": "Python 3"
    }
  },
  "cells": [
    {
      "cell_type": "markdown",
      "metadata": {
        "id": "view-in-github",
        "colab_type": "text"
      },
      "source": [
        "<a href=\"https://colab.research.google.com/github/taniokah/Sports_Analysis/blob/master/Background_Subtract_Test.ipynb\" target=\"_parent\"><img src=\"https://colab.research.google.com/assets/colab-badge.svg\" alt=\"Open In Colab\"/></a>"
      ]
    },
    {
      "cell_type": "markdown",
      "metadata": {
        "id": "ieuvLA2-hdoq",
        "colab_type": "text"
      },
      "source": [
        "# 手順\n",
        "\n",
        "1. Google Drive に接続\n",
        "2. 必要な動画をコピー\n",
        "3. 必要なライブラリをpip install\n",
        "4. プログラムの改変\n",
        "5. プログラムの実行\n",
        "6. 内容の確認\n",
        "\n",
        "\n",
        "参考文献: https://www.youtube.com/watch?v=nRt2LPRz704  \n",
        "https://medium.com/@kananvyas/player-and-football-detection-using-opencv-python-in-fifa-match-6fd2e4e373f0  \n",
        "https://temari.co.jp/blog/2017/11/13/opencv-4/  "
      ]
    },
    {
      "cell_type": "code",
      "metadata": {
        "id": "eFPCvoAQh3Ux",
        "colab_type": "code",
        "colab": {
          "base_uri": "https://localhost:8080/",
          "height": 125
        },
        "outputId": "04db4094-9a88-4366-a07f-7562935424ae"
      },
      "source": [
        "from google.colab import drive\n",
        "drive.mount('/content/drive')"
      ],
      "execution_count": 1,
      "outputs": [
        {
          "output_type": "stream",
          "text": [
            "Go to this URL in a browser: https://accounts.google.com/o/oauth2/auth?client_id=947318989803-6bn6qk8qdgf4n4g3pfee6491hc0brc4i.apps.googleusercontent.com&redirect_uri=urn%3aietf%3awg%3aoauth%3a2.0%3aoob&response_type=code&scope=email%20https%3a%2f%2fwww.googleapis.com%2fauth%2fdocs.test%20https%3a%2f%2fwww.googleapis.com%2fauth%2fdrive%20https%3a%2f%2fwww.googleapis.com%2fauth%2fdrive.photos.readonly%20https%3a%2f%2fwww.googleapis.com%2fauth%2fpeopleapi.readonly\n",
            "\n",
            "Enter your authorization code:\n",
            "··········\n",
            "Mounted at /content/drive\n"
          ],
          "name": "stdout"
        }
      ]
    },
    {
      "cell_type": "code",
      "metadata": {
        "id": "z-q6KKJAisLS",
        "colab_type": "code",
        "colab": {}
      },
      "source": [
        "!cp /content/drive/'My Drive'/test/'20190224 鹿屋体育大学 vs 鹿児島高専 1st-l00CwQ6HI_o_5m.mp4' /content/'20190224 鹿屋体育大学 vs 鹿児島高専 1st-l00CwQ6HI_o_5m.mp4'"
      ],
      "execution_count": 0,
      "outputs": []
    },
    {
      "cell_type": "code",
      "metadata": {
        "id": "7ygIIpxnjCLX",
        "colab_type": "code",
        "colab": {
          "base_uri": "https://localhost:8080/",
          "height": 210
        },
        "outputId": "e97c6222-ae9c-446c-a3a8-d37156c74dea"
      },
      "source": [
        "import tensorflow as tf\n",
        "print(tf.__version__)\n",
        "\n",
        "!pip install numpy\n",
        "!pip install scikit-learn\n",
        "!pip install opencv-python\n",
        "!pip install opencv-contrib-python\n",
        "!pip install pillow\n"
      ],
      "execution_count": 3,
      "outputs": [
        {
          "output_type": "stream",
          "text": [
            "2.2.0-rc3\n",
            "Requirement already satisfied: numpy in /usr/local/lib/python3.6/dist-packages (1.18.3)\n",
            "Requirement already satisfied: scikit-learn in /usr/local/lib/python3.6/dist-packages (0.22.2.post1)\n",
            "Requirement already satisfied: scipy>=0.17.0 in /usr/local/lib/python3.6/dist-packages (from scikit-learn) (1.4.1)\n",
            "Requirement already satisfied: numpy>=1.11.0 in /usr/local/lib/python3.6/dist-packages (from scikit-learn) (1.18.3)\n",
            "Requirement already satisfied: joblib>=0.11 in /usr/local/lib/python3.6/dist-packages (from scikit-learn) (0.14.1)\n",
            "Requirement already satisfied: opencv-python in /usr/local/lib/python3.6/dist-packages (4.1.2.30)\n",
            "Requirement already satisfied: numpy>=1.11.3 in /usr/local/lib/python3.6/dist-packages (from opencv-python) (1.18.3)\n",
            "Requirement already satisfied: opencv-contrib-python in /usr/local/lib/python3.6/dist-packages (4.1.2.30)\n",
            "Requirement already satisfied: numpy>=1.11.3 in /usr/local/lib/python3.6/dist-packages (from opencv-contrib-python) (1.18.3)\n",
            "Requirement already satisfied: pillow in /usr/local/lib/python3.6/dist-packages (7.0.0)\n"
          ],
          "name": "stdout"
        }
      ]
    },
    {
      "cell_type": "code",
      "metadata": {
        "id": "8rInUbSNf_V2",
        "colab_type": "code",
        "colab": {
          "base_uri": "https://localhost:8080/",
          "height": 34
        },
        "outputId": "c6da431b-7a2a-4c21-d050-8a78b53344a5"
      },
      "source": [
        "# importing libraries \n",
        "import numpy as np\n",
        "import cv2\n",
        "import sys\n",
        "  \n",
        "# creating object \n",
        "fgbg2 = cv2.bgsegm.createBackgroundSubtractorMOG(history=10)\n",
        "  \n",
        "# capture frames from a camera  \n",
        "cap = cv2.VideoCapture('20190224 鹿屋体育大学 vs 鹿児島高専 1st-l00CwQ6HI_o_5m.mp4')\n",
        "\n",
        "video_FourCC = cv2.VideoWriter_fourcc(*\"mp4v\")\n",
        "video_frame = cap.get(cv2.CAP_PROP_FRAME_COUNT)\n",
        "video_fps = cap.get(cv2.CAP_PROP_FPS)\n",
        "video_size = (int(cap.get(cv2.CAP_PROP_FRAME_WIDTH)), int(cap.get(cv2.CAP_PROP_FRAME_HEIGHT)))\n",
        "out = cv2.VideoWriter('20190224 鹿屋体育大学 vs 鹿児島高専 1st-l00CwQ6HI_o_5m_ball.mp4', video_FourCC, video_fps, video_size)\n",
        "\n",
        "preview = False\n",
        "color = True\n",
        "\n",
        "count = 0\n",
        "while count < int(video_frame): \n",
        "    # read frames \n",
        "    ret, img = cap.read()\n",
        "    if ret == False:\n",
        "        break\n",
        "    count += 1\n",
        "    if count < 0:\n",
        "        continue\n",
        "    if count > sys.maxsize:\n",
        "        break\n",
        "    print(\"\\r\" + str(count) + \"/\" + str(int(video_frame)), end=\"\", file=sys.stderr)\n",
        "    \n",
        "    height = img.shape[0]\n",
        "    width = img.shape[1]\n",
        "      \n",
        "    # apply mask for background subtraction \n",
        "    fgmask2 = fgbg2.apply(img)\n",
        "    \n",
        "    (contours, hierarchy) = cv2.findContours(fgmask2.copy(), cv2.RETR_EXTERNAL,cv2.CHAIN_APPROX_SIMPLE)\n",
        "    for c in contours:\n",
        "        area = cv2.contourArea(c)\n",
        "        #if area < 10:\n",
        "        #    continue\n",
        "\n",
        "        #get bounding box from countour\n",
        "        (x, y, w, h) = cv2.boundingRect(c)\n",
        "        if x < (width / 4 * 0.2) or x > (width / 4 * 3.8):\n",
        "            continue\n",
        "        if y < (height / 8) or y > (height / 2):\n",
        "            continue\n",
        "        if y < (height / 4) / (width / 4) * (x - (width / 4 * 3)) or y < (height / 4) / (width / 4) * ((width / 4) - x):\n",
        "            continue\n",
        "        if w > 20 or h > 20 or abs(w - h) / w > 0.5:\n",
        "            continue\n",
        "            \n",
        "        #draw bounding box\n",
        "        if color:\n",
        "            ball_img = img[y:y+h, x:x+w]\n",
        "            \n",
        "            ball_hsv = cv2.cvtColor(ball_img, cv2.COLOR_BGR2HSV_FULL)\n",
        "            # green\n",
        "            #lower_green = np.array([75, 50, 50])\n",
        "            #upper_green = np.array([110, 255, 255])\n",
        "            # white\n",
        "            sensitivity = 150\n",
        "            lower_white = np.array([0,0,50])\n",
        "            upper_white = np.array([180,255,255])\n",
        "            mask = cv2.inRange(ball_hsv, lower_white, upper_white)\n",
        "            res = cv2.bitwise_and(ball_hsv, ball_hsv, mask=mask)\n",
        "            res = cv2.cvtColor(res,cv2.COLOR_HSV2BGR)\n",
        "            res = cv2.cvtColor(res,cv2.COLOR_BGR2GRAY)\n",
        "            nzCount = cv2.countNonZero(res)\n",
        "            if nzCount > 0:\n",
        "                cv2.rectangle(img, (x, y), (x + w, y + h), (0, 255, 0), 2)\n",
        "        else:\n",
        "            cv2.rectangle(img, (x, y), (x + w, y + h), (0, 255, 0), 2)\n",
        "    \n",
        "    out.write(img)\n",
        "\n",
        "    if preview:\n",
        "        cv2.namedWindow(\"Original\",cv2.WINDOW_NORMAL)\n",
        "        cv2.resizeWindow(\"Original\",1280,680)\n",
        "        #img = cv2.resize(img)\n",
        "        cv2.imshow('Original', img)\n",
        "        #cv2.imshow('MOG2', fgmask2)\n",
        "    \n",
        "        k = cv2.waitKey(25) & 0xff\n",
        "        if k == 27: \n",
        "            break\n",
        "\n",
        "out.release()\n",
        "cap.release()\n",
        "cv2.destroyAllWindows()"
      ],
      "execution_count": 9,
      "outputs": [
        {
          "output_type": "stream",
          "text": [
            "100/9000"
          ],
          "name": "stderr"
        }
      ]
    },
    {
      "cell_type": "code",
      "metadata": {
        "id": "BvWM67Xmjlmc",
        "colab_type": "code",
        "colab": {}
      },
      "source": [
        "!cp '20190224 鹿屋体育大学 vs 鹿児島高専 1st-l00CwQ6HI_o_5m_ball.mp4' drive/My\\ Drive/test/\"20190224 鹿屋体育大学 vs 鹿児島高専 1st-l00CwQ6HI_o_5m_ball.mp4\""
      ],
      "execution_count": 0,
      "outputs": []
    },
    {
      "cell_type": "code",
      "metadata": {
        "id": "OwP5BSaUL1aD",
        "colab_type": "code",
        "colab": {}
      },
      "source": [
        ""
      ],
      "execution_count": 0,
      "outputs": []
    }
  ]
}