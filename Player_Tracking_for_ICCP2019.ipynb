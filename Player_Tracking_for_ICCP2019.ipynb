{
  "nbformat": 4,
  "nbformat_minor": 0,
  "metadata": {
    "colab": {
      "name": "Player Tracking for ICCP2019.ipynb",
      "version": "0.3.2",
      "provenance": [],
      "include_colab_link": true
    },
    "kernelspec": {
      "name": "python3",
      "display_name": "Python 3"
    }
  },
  "cells": [
    {
      "cell_type": "markdown",
      "metadata": {
        "id": "view-in-github",
        "colab_type": "text"
      },
      "source": [
        "<a href=\"https://colab.research.google.com/github/taniokah/Sports_Analysis/blob/master/Player_Tracking_for_ICCP2019.ipynb\" target=\"_parent\"><img src=\"https://colab.research.google.com/assets/colab-badge.svg\" alt=\"Open In Colab\"/></a>"
      ]
    },
    {
      "cell_type": "code",
      "metadata": {
        "id": "WvLathNghJ9H",
        "colab_type": "code",
        "colab": {
          "base_uri": "https://localhost:8080/",
          "height": 34
        },
        "outputId": "be365a03-36b2-470a-ff57-0f20e7813c3f"
      },
      "source": [
        "%matplotlib inline\n",
        "import cv2 #　opencvのインポート\n",
        "import matplotlib.pyplot as plt # matplotlib(描画用)\n",
        "\n",
        "print(cv2.__version__)"
      ],
      "execution_count": 1,
      "outputs": [
        {
          "output_type": "stream",
          "text": [
            "3.4.3\n"
          ],
          "name": "stdout"
        }
      ]
    },
    {
      "cell_type": "code",
      "metadata": {
        "id": "MXOzFw5khV3g",
        "colab_type": "code",
        "colab": {
          "base_uri": "https://localhost:8080/",
          "height": 238
        },
        "outputId": "e7f6330a-1d8f-41f5-9ac3-fe174093ba71"
      },
      "source": [
        "!pip install pytube\n",
        "!pip install ffmpeg"
      ],
      "execution_count": 2,
      "outputs": [
        {
          "output_type": "stream",
          "text": [
            "Collecting pytube\n",
            "  Downloading https://files.pythonhosted.org/packages/d5/67/087f4771284110bf4c742d101fa8f4019529d55a2850cd383349c41f9930/pytube-9.5.0-py3-none-any.whl\n",
            "Installing collected packages: pytube\n",
            "Successfully installed pytube-9.5.0\n",
            "Collecting ffmpeg\n",
            "  Downloading https://files.pythonhosted.org/packages/f0/cc/3b7408b8ecf7c1d20ad480c3eaed7619857bf1054b690226e906fdf14258/ffmpeg-1.4.tar.gz\n",
            "Building wheels for collected packages: ffmpeg\n",
            "  Building wheel for ffmpeg (setup.py) ... \u001b[?25l\u001b[?25hdone\n",
            "  Stored in directory: /root/.cache/pip/wheels/b6/68/c3/a05a35f647ba871e5572b9bbfc0b95fd1c6637a2219f959e7a\n",
            "Successfully built ffmpeg\n",
            "Installing collected packages: ffmpeg\n",
            "Successfully installed ffmpeg-1.4\n"
          ],
          "name": "stdout"
        }
      ]
    },
    {
      "cell_type": "code",
      "metadata": {
        "id": "4Qi4_rORhdcM",
        "colab_type": "code",
        "colab": {}
      },
      "source": [
        "from pytube import YouTube\n",
        "\n",
        "yt = YouTube(\"https://youtu.be/l00CwQ6HI_o\")\n"
      ],
      "execution_count": 0,
      "outputs": []
    },
    {
      "cell_type": "code",
      "metadata": {
        "id": "9z_uAEu3hiZj",
        "colab_type": "code",
        "colab": {}
      },
      "source": [
        "yt.streams.all()\n",
        "#yt.streams.filter(progressive=False).desc().all()\n",
        "#yt.streams.get_by_itag(313)\n",
        "#yt.streams.first().download()\n",
        "yt.streams.get_by_itag(313).download()"
      ],
      "execution_count": 0,
      "outputs": []
    },
    {
      "cell_type": "code",
      "metadata": {
        "id": "31_y9poRihqv",
        "colab_type": "code",
        "colab": {}
      },
      "source": [
        "!rm -rf screen_caps\n",
        "!mkdir screen_caps"
      ],
      "execution_count": 0,
      "outputs": []
    },
    {
      "cell_type": "code",
      "metadata": {
        "id": "SUI_AIZMjKqn",
        "colab_type": "code",
        "colab": {}
      },
      "source": [
        "#動画ファイルを読み込む\n",
        "#file_name = u\"20190217 徳島大学医学部 vs 吉野クラブ 2nd No2.mp4\"\n",
        "#file_name = u\"20190224 鹿屋体育大学 vs 鹿児島高専 1st.mp4\"\n",
        "file_name = u\"/content/20190224 鹿屋体育大学 vs 鹿児島高専 1st.webm\"\n",
        "video = cv2.VideoCapture(file_name)\n",
        "\n",
        "#フレームレート数の取得\n",
        "frame_count = int(video.get(cv2.CAP_PROP_FRAME_COUNT))\n",
        "print('frame_count = ' + str(frame_count))\n",
        "\n",
        "#フレームレート(1フレームの時間単位はミリ秒)の取得\n",
        "frame_rate = int(video.get(cv2.CAP_PROP_FPS))\n",
        "print('frame_rate = ' + str(frame_rate))\n",
        "\n",
        "# 画像を保存する\n",
        "dir_name = \"screen_caps\"\n",
        "for i in range(frame_count):\n",
        "  _, frame = video.read()\n",
        "  if i % 330 == 0: # 10秒で1枚\n",
        "    file_name = dir_name+ \"/\" + str(i) + \".png\"\n",
        "    cv2.imwrite(file_name, frame)\n",
        "  if i > 4000:\n",
        "    break\n"
      ],
      "execution_count": 0,
      "outputs": []
    }
  ]
}