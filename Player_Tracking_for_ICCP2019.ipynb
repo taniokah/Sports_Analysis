{
  "nbformat": 4,
  "nbformat_minor": 0,
  "metadata": {
    "colab": {
      "name": "Player_Tracking_for_ICCP2019.ipynb",
      "version": "0.3.2",
      "provenance": [],
      "include_colab_link": true
    },
    "kernelspec": {
      "name": "python3",
      "display_name": "Python 3"
    }
  },
  "cells": [
    {
      "cell_type": "markdown",
      "metadata": {
        "id": "view-in-github",
        "colab_type": "text"
      },
      "source": [
        "<a href=\"https://colab.research.google.com/github/taniokah/Sports_Analysis/blob/master/Player_Tracking_for_ICCP2019.ipynb\" target=\"_parent\"><img src=\"https://colab.research.google.com/assets/colab-badge.svg\" alt=\"Open In Colab\"/></a>"
      ]
    },
    {
      "cell_type": "code",
      "metadata": {
        "id": "WvLathNghJ9H",
        "colab_type": "code",
        "outputId": "4797810e-bb7e-42b6-97f2-a3b3a27e7c87",
        "colab": {
          "base_uri": "https://localhost:8080/",
          "height": 34
        }
      },
      "source": [
        "%matplotlib inline\n",
        "import cv2 #　opencvのインポート\n",
        "import matplotlib.pyplot as plt # matplotlib(描画用)\n",
        "\n",
        "print(cv2.__version__)"
      ],
      "execution_count": 3,
      "outputs": [
        {
          "output_type": "stream",
          "text": [
            "3.4.3\n"
          ],
          "name": "stdout"
        }
      ]
    },
    {
      "cell_type": "code",
      "metadata": {
        "id": "MXOzFw5khV3g",
        "colab_type": "code",
        "outputId": "0127ba35-b708-4a80-e778-f8db8e7a525a",
        "colab": {
          "base_uri": "https://localhost:8080/",
          "height": 70
        }
      },
      "source": [
        "!pip install pytube\n",
        "!pip install ffmpeg"
      ],
      "execution_count": 4,
      "outputs": [
        {
          "output_type": "stream",
          "text": [
            "Requirement already satisfied: pytube in /usr/local/lib/python3.6/dist-packages (9.5.0)\n",
            "Requirement already satisfied: ffmpeg in /usr/local/lib/python3.6/dist-packages (1.4)\n"
          ],
          "name": "stdout"
        }
      ]
    },
    {
      "cell_type": "code",
      "metadata": {
        "id": "fMehHI7Gwgpq",
        "colab_type": "code",
        "colab": {}
      },
      "source": [
        "!rm -rf screen_caps\n",
        "!mkdir screen_caps"
      ],
      "execution_count": 0,
      "outputs": []
    },
    {
      "cell_type": "code",
      "metadata": {
        "id": "4Qi4_rORhdcM",
        "colab_type": "code",
        "colab": {}
      },
      "source": [
        "from pytube import YouTube\n",
        "\n",
        "yt = YouTube(\"https://youtu.be/l00CwQ6HI_o\")\n"
      ],
      "execution_count": 0,
      "outputs": []
    },
    {
      "cell_type": "code",
      "metadata": {
        "id": "9z_uAEu3hiZj",
        "colab_type": "code",
        "outputId": "fae645c4-0f9f-4e81-b66f-f6b6f5a28e39",
        "colab": {
          "base_uri": "https://localhost:8080/",
          "height": 34
        }
      },
      "source": [
        "yt.streams.all()\n",
        "#yt.streams.filter(progressive=False).desc().all()\n",
        "#yt.streams.get_by_itag(313)\n",
        "#yt.streams.first().download()\n",
        "yt.streams.get_by_itag(313).download()"
      ],
      "execution_count": 7,
      "outputs": [
        {
          "output_type": "execute_result",
          "data": {
            "text/plain": [
              "'/content/20190224 鹿屋体育大学 vs 鹿児島高専 1st.webm'"
            ]
          },
          "metadata": {
            "tags": []
          },
          "execution_count": 7
        }
      ]
    },
    {
      "cell_type": "code",
      "metadata": {
        "id": "SUI_AIZMjKqn",
        "colab_type": "code",
        "outputId": "3b33825b-1fe1-4c12-cf02-11d281834b62",
        "colab": {
          "base_uri": "https://localhost:8080/",
          "height": 50
        }
      },
      "source": [
        "import cv2\n",
        "import numpy as np\n",
        "\n",
        "#動画ファイルを読み込む\n",
        "#file_name = u\"20190217 徳島大学医学部 vs 吉野クラブ 2nd No2.mp4\"\n",
        "#file_name = u\"20190224 鹿屋体育大学 vs 鹿児島高専 1st.mp4\"\n",
        "file_name = u\"/content/20190224 鹿屋体育大学 vs 鹿児島高専 1st.webm\"\n",
        "cap = cv2.VideoCapture(file_name)\n",
        "width = int(cap.get(cv2.CAP_PROP_FRAME_WIDTH))\n",
        "height = int(cap.get(cv2.CAP_PROP_FRAME_HEIGHT))\n",
        "print(str(width) + ', ' + str(height))\n",
        "fps = cap.get(cv2.CAP_PROP_FPS)\n",
        "\n",
        "#(width, height) = (1280, 720)\n",
        "print(str(width) + ', ' + str(height))\n",
        "fourcc = cv2.VideoWriter_fourcc(*'MP4V')\n",
        "writer = cv2.VideoWriter('T20190224_1st.mp4', fourcc, fps, (width, height), True)\n",
        "\n",
        "#count = 0\n",
        "\n",
        "while True:\n",
        "\t#_, frame = cap.read()\n",
        "\tret, frame = cap.read()\n",
        "\tif not ret:\n",
        "\t\tbreak\n",
        "\n",
        "\tpts1 = np.float32([[1110, 495], [2700, 495], [-90, 1065], [3870, 1065]])\n",
        "\tpts2 = np.float32([[0, 0], [width, 0], [0, height], [width, height]])\n",
        "\tmatrix = cv2.getPerspectiveTransform(pts1, pts2)\n",
        "\tresult = cv2.warpPerspective(frame, matrix, (width, height))\n",
        "\n",
        "\t#cv2.circle(frame, (370, 165), 5, (0, 0, 255), -1)\n",
        "\t#cv2.circle(frame, (900, 165), 5, (0, 255, 0), -1)\n",
        "\t#cv2.circle(frame, (-30, 355), 5, (255, 0, 0), -1)\n",
        "\t#cv2.circle(frame, (1290, 355), 5, (0, 255, 255), -1)\n",
        "\n",
        "\t#cv2_imshow(frame)\n",
        "\t#cv2.imshow(\"Perspective transformation\", result)\n",
        "\n",
        "\twriter.write(result)\n",
        "  \n",
        "\tkey = cv2.waitKey(1)\n",
        "\tif key == 27:\n",
        "\t\tbreak\n",
        "  \n",
        "#\tcount = count + 1\n",
        "#\tif count > 1000:\n",
        "#\t\tbreak\n",
        "\n",
        "cv2.destroyAllWindows()\n",
        "writer.release()\n",
        "cap.release()\n",
        "print('done')\n"
      ],
      "execution_count": 0,
      "outputs": [
        {
          "output_type": "stream",
          "text": [
            "3840, 2160\n",
            "3840, 2160\n"
          ],
          "name": "stdout"
        }
      ]
    },
    {
      "cell_type": "code",
      "metadata": {
        "id": "cVMVgVRp6E0s",
        "colab_type": "code",
        "colab": {}
      },
      "source": [
        ""
      ],
      "execution_count": 0,
      "outputs": []
    }
  ]
}